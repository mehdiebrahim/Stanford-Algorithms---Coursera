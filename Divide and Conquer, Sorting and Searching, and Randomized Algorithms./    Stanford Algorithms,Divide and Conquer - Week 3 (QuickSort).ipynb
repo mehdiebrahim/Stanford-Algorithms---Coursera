{
 "cells": [
  {
   "cell_type": "code",
   "execution_count": null,
   "metadata": {},
   "outputs": [],
   "source": [
    "\n",
    "    "
   ]
  },
  {
   "cell_type": "code",
   "execution_count": null,
   "metadata": {},
   "outputs": [],
   "source": []
  },
  {
   "cell_type": "markdown",
   "metadata": {},
   "source": [
    "c=[1,2,3,4,5]\n"
   ]
  },
  {
   "cell_type": "code",
   "execution_count": 1,
   "metadata": {},
   "outputs": [
    {
     "data": {
      "text/plain": [
       "162085"
      ]
     },
     "execution_count": 1,
     "metadata": {},
     "output_type": "execute_result"
    }
   ],
   "source": [
    "import pandas as pd\n",
    "import sys\n",
    "import os\n",
    "\n",
    "os.chdir('/Users/mehdiebrahim/Desktop/Stanford Algorithms - Data')\n",
    "data = pd.read_csv('QuickSort.txt',sep=' ',header=None)\n",
    "data.columns = ['a']\n",
    "L = list(data['a'])\n",
    "n = len(L)\n",
    "A = [3,8,2,5,5,10,7,8,6,9,1,11]\n",
    "count = 0\n",
    "\n",
    "def find_middle(a,b):\n",
    "    '''Finds the middle element between a and b '''\n",
    "\n",
    "    if abs(b-a)%2==0:\n",
    "        med = abs(b-a)//2 \n",
    "        \n",
    "        if a<=b:\n",
    "            return a+med\n",
    "        else:\n",
    "            return b+med\n",
    "        \n",
    "    elif abs(b-a)%2!=0:\n",
    "        \n",
    "        med = abs(b-a)//2\n",
    "        if a<=b:\n",
    "            return a + med\n",
    "        else:\n",
    "            return b + med\n",
    "        \n",
    "def find_median(a,b,c):\n",
    "    '''finds the median value of a,b,c'''\n",
    "    \n",
    "    if a>b:\n",
    "        if c<b:\n",
    "            return b\n",
    "        \n",
    "        elif a<c:\n",
    "            return a\n",
    "        \n",
    "        else:\n",
    "            return c\n",
    "    else:\n",
    "        \n",
    "        if a > c:\n",
    "            return a\n",
    "        \n",
    "        elif b < c:\n",
    "            return b\n",
    "        \n",
    "        else:\n",
    "            return c\n",
    "    \n",
    "def partition(A1,start,end,partition_type):\n",
    "    \n",
    "    '''Partitions the elements around the pivot so all elements\n",
    "    <  pivot come before it and those > come after'''\n",
    "    \n",
    "    global count\n",
    "    count += abs(end-start)-1\n",
    "    \n",
    "    if partition_type == 'first':\n",
    "#        uses the first element of sub_array as pivot\n",
    "        p = A1[start]\n",
    "        \n",
    "    elif partition_type == 'end':\n",
    "        #uses the last element of sub_array as pivot\n",
    "        \n",
    "        p= A1[end-1] #end-1 necessary as end==len(A)\n",
    "        A1[end-1],A1[start] = A1[start],A1[end-1] #swap the first elem with pivot, last elem\n",
    "                                                    #this step is always necessary for any pivot\n",
    "    elif partition_type == \"median-of-three\":\n",
    "        \n",
    "        #take the first, middle and last element and \n",
    "        # choose median value as pivot\n",
    "        \n",
    "        middle_ind = find_middle(start,end-1) #the middle index \n",
    "        start_val = A1[start] #value of starting element\n",
    "        end_val = A1[end-1] #value of last element\n",
    "        mid_val = A1[middle_ind] #value of middle index\n",
    "        median = find_median(start_val,end_val,mid_val)\n",
    "        \n",
    "        if median == start_val:\n",
    "#           #if median equals value at first index of subarray\n",
    "            #set the pivot index to be index of first value of subarray\n",
    "            piv_ind = start\n",
    "            \n",
    "        elif median == end_val:\n",
    "            piv_ind = end-1\n",
    "        \n",
    "        else:\n",
    "            piv_ind = middle_ind\n",
    "        \n",
    "        p = A1[piv_ind]\n",
    "        A1[start], A1[piv_ind] = A1[piv_ind], A1[start] #swap start index of subarray\n",
    "                                                        #with first elem\n",
    "    i = start+1\n",
    "    j = start+1\n",
    "    \n",
    "    while j < end:\n",
    "        if A1[j] < p:\n",
    "            A1[j],A1[i] = A1[i],A1[j]\n",
    "            i += 1\n",
    "        j += 1\n",
    "\n",
    "    A1[start], A1[i-1] = A1[i-1], A1[start]\n",
    "    return i\n",
    "\n",
    "def QuickSort(A1,start,end,partition_type='median-three-pivot'):\n",
    "    \n",
    "    '''Implements the recursive QuickSort algorithm\n",
    "    We want to continue working on the original array and so we do not\n",
    "    need to create entirely new arrays and copy sorted elems into these arrays (unlike merge sort)\n",
    "    We can work on original array but have to keep track of start and end indices of the array, hence \n",
    "    we have the start and end variables. The partition types are: first elem as pivot, last elem \n",
    "    as pivot and the median-three-pivot rule. \n",
    "    '''\n",
    "    if start == end:\n",
    "        #base condition necessary because when start index == end i.e. one element array, then we\n",
    "        # want the recursion to stop \n",
    "        return A1\n",
    "\n",
    "    new_piv = partition(A1,start,end,partition_type) #gives us the position of pivot\n",
    "    QuickSort(A1,start,new_piv-1,partition_type) #partition to left of pivot \n",
    "    QuickSort(A1,new_piv,end,partition_type) #partition to the right of the pivot \n",
    "\n",
    "    return A1\n",
    "\n",
    "QuickSort(L,0,len(L),partition_type='first')\n",
    "count\n",
    "# QuickSort(L,0,len(L),partition_type='end')\n",
    "# count\n",
    "# QuickSort(L,0,len(L),partition_type='end') \n",
    "# count\n",
    "\n",
    "\n",
    "\n",
    "\n",
    "\n",
    "\n",
    "\n",
    "\n",
    "#above calls call quicksort for the pivot option we want. Try also randomised pivot?\n",
    "#for a given call, hash the remain lines i.e. Quicksort followed by count for the other two\n",
    "#as we can only see them individually. \n",
    "\n",
    "\n",
    "\n"
   ]
  },
  {
   "cell_type": "code",
   "execution_count": null,
   "metadata": {},
   "outputs": [],
   "source": []
  },
  {
   "cell_type": "code",
   "execution_count": 10,
   "metadata": {},
   "outputs": [
    {
     "data": {
      "text/plain": [
       "([1, 2, 3, 5, 8, 4, 7, 6], 3)"
      ]
     },
     "execution_count": 10,
     "metadata": {},
     "output_type": "execute_result"
    }
   ],
   "source": [
    "'''partitioning subroutine'''\n",
    "\n",
    "A= [3,8,2,5,1,4,7,6]\n",
    "l=0\n",
    "start = 0\n",
    "i=l+1\n",
    "j=l+1\n",
    "p = A[l]\n",
    "    \n",
    "while j < len(A):\n",
    "\n",
    "    if A[j]<p:\n",
    "        A[j],A[i]=A[i],A[j]\n",
    "        i+=1\n",
    "    j+=1\n",
    "        \n",
    "A[l],A[i-1]=A[i-1],A[l]\n",
    "\n",
    "A,i"
   ]
  },
  {
   "cell_type": "code",
   "execution_count": null,
   "metadata": {},
   "outputs": [],
   "source": []
  },
  {
   "cell_type": "code",
   "execution_count": null,
   "metadata": {},
   "outputs": [],
   "source": []
  },
  {
   "cell_type": "code",
   "execution_count": null,
   "metadata": {},
   "outputs": [],
   "source": []
  },
  {
   "cell_type": "code",
   "execution_count": null,
   "metadata": {},
   "outputs": [],
   "source": []
  },
  {
   "cell_type": "code",
   "execution_count": null,
   "metadata": {},
   "outputs": [],
   "source": []
  },
  {
   "cell_type": "code",
   "execution_count": null,
   "metadata": {},
   "outputs": [],
   "source": []
  },
  {
   "cell_type": "code",
   "execution_count": null,
   "metadata": {},
   "outputs": [],
   "source": []
  },
  {
   "cell_type": "code",
   "execution_count": null,
   "metadata": {},
   "outputs": [],
   "source": []
  }
 ],
 "metadata": {
  "kernelspec": {
   "display_name": "Python 3",
   "language": "python",
   "name": "python3"
  },
  "language_info": {
   "codemirror_mode": {
    "name": "ipython",
    "version": 3
   },
   "file_extension": ".py",
   "mimetype": "text/x-python",
   "name": "python",
   "nbconvert_exporter": "python",
   "pygments_lexer": "ipython3",
   "version": "3.7.6"
  }
 },
 "nbformat": 4,
 "nbformat_minor": 4
}
